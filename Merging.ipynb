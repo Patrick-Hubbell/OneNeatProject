{
 "cells": [
  {
   "cell_type": "code",
   "execution_count": 1,
   "metadata": {},
   "outputs": [],
   "source": [
    "import pandas as pd"
   ]
  },
  {
   "cell_type": "code",
   "execution_count": 2,
   "metadata": {},
   "outputs": [],
   "source": [
    "# distiller = pd.read_csv('CSV\\'s/cleaned_distiller_2.csv')\n",
    "meta = pd.read_csv('CSV\\'s/cleaned_meta_2.csv')\n",
    "thirst = pd.read_csv('CSV\\'s/cleaned_thirst_2.csv')"
   ]
  },
  {
   "cell_type": "code",
   "execution_count": 3,
   "metadata": {},
   "outputs": [],
   "source": [
    "whiskey_df = thirst.merge(meta, on = ['name', 'rating', 'type'], how = 'outer')"
   ]
  },
  {
   "cell_type": "code",
   "execution_count": 4,
   "metadata": {},
   "outputs": [],
   "source": [
    "# thirst_meta"
   ]
  },
  {
   "cell_type": "code",
   "execution_count": 5,
   "metadata": {},
   "outputs": [],
   "source": [
    "# whiskey_df = distiller_meta.merge(thirst, on = ['name', 'rating', 'type'], how = 'outer')"
   ]
  },
  {
   "cell_type": "code",
   "execution_count": 6,
   "metadata": {},
   "outputs": [
    {
     "data": {
      "text/html": [
       "<div>\n",
       "<style scoped>\n",
       "    .dataframe tbody tr th:only-of-type {\n",
       "        vertical-align: middle;\n",
       "    }\n",
       "\n",
       "    .dataframe tbody tr th {\n",
       "        vertical-align: top;\n",
       "    }\n",
       "\n",
       "    .dataframe thead th {\n",
       "        text-align: right;\n",
       "    }\n",
       "</style>\n",
       "<table border=\"1\" class=\"dataframe\">\n",
       "  <thead>\n",
       "    <tr style=\"text-align: right;\">\n",
       "      <th></th>\n",
       "      <th>name</th>\n",
       "      <th>rating</th>\n",
       "      <th>type</th>\n",
       "    </tr>\n",
       "  </thead>\n",
       "  <tbody>\n",
       "    <tr>\n",
       "      <th>0</th>\n",
       "      <td>2bar Straight Bourbon Whiskey</td>\n",
       "      <td>8.50</td>\n",
       "      <td>Bourbon</td>\n",
       "    </tr>\n",
       "    <tr>\n",
       "      <th>1</th>\n",
       "      <td>1792 Full Proof</td>\n",
       "      <td>9.10</td>\n",
       "      <td>Bourbon</td>\n",
       "    </tr>\n",
       "    <tr>\n",
       "      <th>2</th>\n",
       "      <td>1792 Full Proof Single Barrel (Kroger)</td>\n",
       "      <td>8.90</td>\n",
       "      <td>Bourbon</td>\n",
       "    </tr>\n",
       "    <tr>\n",
       "      <th>3</th>\n",
       "      <td>1792 Full Proof Single Barrel (The Bourbon Soc...</td>\n",
       "      <td>9.40</td>\n",
       "      <td>Bourbon</td>\n",
       "    </tr>\n",
       "    <tr>\n",
       "      <th>4</th>\n",
       "      <td>1792 Single Barrel</td>\n",
       "      <td>8.80</td>\n",
       "      <td>Bourbon</td>\n",
       "    </tr>\n",
       "    <tr>\n",
       "      <th>...</th>\n",
       "      <td>...</td>\n",
       "      <td>...</td>\n",
       "      <td>...</td>\n",
       "    </tr>\n",
       "    <tr>\n",
       "      <th>2081</th>\n",
       "      <td>Ezra B 12yo Single Barrel</td>\n",
       "      <td>7.65</td>\n",
       "      <td>Bourbon</td>\n",
       "    </tr>\n",
       "    <tr>\n",
       "      <th>2082</th>\n",
       "      <td>Jim Beam White Label</td>\n",
       "      <td>7.63</td>\n",
       "      <td>Bourbon</td>\n",
       "    </tr>\n",
       "    <tr>\n",
       "      <th>2083</th>\n",
       "      <td>Rebel Yell Kentucky Bourbon</td>\n",
       "      <td>7.55</td>\n",
       "      <td>Bourbon</td>\n",
       "    </tr>\n",
       "    <tr>\n",
       "      <th>2084</th>\n",
       "      <td>Jim Beam Red Stag (Black Cherry)</td>\n",
       "      <td>7.36</td>\n",
       "      <td>Flavoured</td>\n",
       "    </tr>\n",
       "    <tr>\n",
       "      <th>2085</th>\n",
       "      <td>Virginia Black</td>\n",
       "      <td>7.20</td>\n",
       "      <td>Bourbon</td>\n",
       "    </tr>\n",
       "  </tbody>\n",
       "</table>\n",
       "<p>2086 rows × 3 columns</p>\n",
       "</div>"
      ],
      "text/plain": [
       "                                                   name  rating       type\n",
       "0                         2bar Straight Bourbon Whiskey    8.50    Bourbon\n",
       "1                                       1792 Full Proof    9.10    Bourbon\n",
       "2                1792 Full Proof Single Barrel (Kroger)    8.90    Bourbon\n",
       "3     1792 Full Proof Single Barrel (The Bourbon Soc...    9.40    Bourbon\n",
       "4                                    1792 Single Barrel    8.80    Bourbon\n",
       "...                                                 ...     ...        ...\n",
       "2081                          Ezra B 12yo Single Barrel    7.65    Bourbon\n",
       "2082                               Jim Beam White Label    7.63    Bourbon\n",
       "2083                        Rebel Yell Kentucky Bourbon    7.55    Bourbon\n",
       "2084                   Jim Beam Red Stag (Black Cherry)    7.36  Flavoured\n",
       "2085                                     Virginia Black    7.20    Bourbon\n",
       "\n",
       "[2086 rows x 3 columns]"
      ]
     },
     "execution_count": 6,
     "metadata": {},
     "output_type": "execute_result"
    }
   ],
   "source": [
    "whiskey_df"
   ]
  },
  {
   "cell_type": "code",
   "execution_count": 7,
   "metadata": {},
   "outputs": [
    {
     "data": {
      "text/plain": [
       "(2086, 3)"
      ]
     },
     "execution_count": 7,
     "metadata": {},
     "output_type": "execute_result"
    }
   ],
   "source": [
    "whiskey_df.shape"
   ]
  },
  {
   "cell_type": "code",
   "execution_count": 8,
   "metadata": {},
   "outputs": [
    {
     "data": {
      "text/plain": [
       "Index(['Malt', 'Bourbon', 'Blend', 'Rye', 'Scotch', 'Irish Whiskey',\n",
       "       'Japanese Whisky', 'American SIngle Malt', 'Grain',\n",
       "       'American Malt Whiskey', 'Finished Bourbon', 'Whiskey', 'Rye Whiskey',\n",
       "       'Wheat Whiskey', 'Tennessee Whiskey', 'Bourye', 'Corn Whiskey', 'Wheat',\n",
       "       'Taiwanese Single Malt Whiskey', 'Finished Rye', 'American Single Malt',\n",
       "       'Malt Whiskey', 'Japanese Whisky\\n', 'Flavored Whiskey',\n",
       "       'Blended Bourbon', 'Flavoured', 'Swedish Single Malt',\n",
       "       'American Whiskey', 'Barley', 'Finished Whiskey', 'Indian Single Malt'],\n",
       "      dtype='object')"
      ]
     },
     "execution_count": 8,
     "metadata": {},
     "output_type": "execute_result"
    }
   ],
   "source": [
    "whiskey_df['type'].value_counts().index"
   ]
  },
  {
   "cell_type": "code",
   "execution_count": 9,
   "metadata": {},
   "outputs": [],
   "source": [
    "# whiskey_df['type'] = whiskey_df['type'].replace(['Single Malt', 'Peated Single Malt',\n",
    "#                                                  'Swedish Single Malt', 'Indian Single Malt',\n",
    "#                                                  'Malt Whiskey', 'American Single Malt', \n",
    "#                                                  'Taiwanese Single Malt Whiskey', 'Blended Malt',\n",
    "#                                                 'Peated Blended Malt','American SIngle Malt',\n",
    "#                                                  'American Malt Whiskey', 'Peated Blend', 'Malt'], 1)"
   ]
  },
  {
   "cell_type": "code",
   "execution_count": 10,
   "metadata": {},
   "outputs": [],
   "source": [
    "# whiskey_df['type'] = whiskey_df['type'].replace(['Distilled Gin', 'Modern Gin',\n",
    "#                                                  'Unflavored Vodka', 'Flavored Vodka',\n",
    "#                                                 'Gin de Mahón', 'London Dry Gin', 'Fruit Genever', \n",
    "#                                                  'Plymouth Gin', 'Flavored Gin','Barrel-Aged Gin',\n",
    "#                                                 'Old Tom Gin','Navy-Strength Gin','Sloe Gin & Variants',\n",
    "#                                                  'Compound Gin','Barrel-Aged Vodka', 'Genever'], 3)"
   ]
  },
  {
   "cell_type": "code",
   "execution_count": 11,
   "metadata": {},
   "outputs": [],
   "source": [
    "# whiskey_df['type'] = whiskey_df['type'].replace(['Other Whiskey', 'American Whiskey', 'Finished Whiskey',\n",
    "#                                                 'Japanese Whisky', 'Japanese Whisky\\n', 'Corn Whiskey',\n",
    "#                                                 'Flavored Whiskey', 'Blended American Whiskey', 'Tennessee Whiskey',\n",
    "#                                                 'Irish Whiskey', 'Tennessee', 'Single Pot Still',\n",
    "#                                                  'Genever-Style', 'Whiskey'], 6)"
   ]
  },
  {
   "cell_type": "code",
   "execution_count": 12,
   "metadata": {},
   "outputs": [],
   "source": [
    "# whiskey_df['type'] = whiskey_df['type'].replace(['Tequila Mixto Añejo','Tequila Mixto Reposado',\n",
    "#                                                  'Mezcal Extra Añejo', 'Mezcal Joven', 'Sotol Añejo',\n",
    "#                                                  'Tequila Mixto Extra Añejo', 'Raicilla Joven',\n",
    "#                                                  'Mezcal Gold', 'Bacanora Añejo','Tequila Blanco',\n",
    "#                                                  'Tequila Reposado', 'Tequila Añejo', 'Tequila Extra Añejo',\n",
    "#                                                  'Tequila Joven', 'Mezcal Reposado', 'Other Agave', \n",
    "#                                                  'Other Sugarcane', 'Spanish', 'Anise Liqueurs','Sotol Blanco',\n",
    "#                                                  'Tequila Mixto Gold', 'Aguardiente', 'Mezcal Añejo',\n",
    "#                                                  'Rhum Agricole Éléve Sous Bois', 'Raicilla Blanco', \n",
    "#                                                  'Tequila Mixto Blanco', 'Bacanora Blanco'], 5)"
   ]
  },
  {
   "cell_type": "code",
   "execution_count": 13,
   "metadata": {},
   "outputs": [],
   "source": [
    "# whiskey_df['type'] = whiskey_df['type'].replace(['Blended Bourbon','Finished Bourbon', 'Bourban','Bourbon'],2)"
   ]
  },
  {
   "cell_type": "code",
   "execution_count": 14,
   "metadata": {},
   "outputs": [],
   "source": [
    "# whiskey_df['type'] = whiskey_df['type'].replace(['Finished Rye', 'Bourye', 'Rye Whiskey', 'Rye'], 8)"
   ]
  },
  {
   "cell_type": "code",
   "execution_count": 15,
   "metadata": {},
   "outputs": [],
   "source": [
    "# whiskey_df['type'] = whiskey_df['type'].replace(['Aged Rum', 'Silver Rum', 'Flavored Rum', 'Spiced Rum', \n",
    "#                                                  'Gold Rum', 'Navy Rum', 'Dark Rum', 'Rhum Agricole Vieux',\n",
    "#                                                  'Rhum Agricole Blanc'], 4)"
   ]
  },
  {
   "cell_type": "code",
   "execution_count": 16,
   "metadata": {},
   "outputs": [],
   "source": [
    "# whiskey_df['type'] = whiskey_df['type'].replace(['Cognac', 'Armagnac','Other Brandy', 'American Brandy',\n",
    "#                                                  'Calvados', 'Grappa/Marc ', 'Eau-de-Vie', 'Pisco ', \n",
    "#                                                  'Blanche Armagnac'],7)"
   ]
  },
  {
   "cell_type": "code",
   "execution_count": 17,
   "metadata": {},
   "outputs": [],
   "source": [
    "# whiskey_df['type'] = whiskey_df['type'].replace(['Blend','Blended', 'Flavoured', 'Canadian','Coffee Liqueurs', \n",
    "#                                                 'Nut Liqueurs', 'Dairy/Egg Liqueurs', 'Chocolate Liqueurs',\n",
    "#                                                  'Floral Liqueurs', 'Herbal/Spice Liqueurs', 'Fruit Liqueurs',\n",
    "#                                                  'Other Liqueurs', 'White', 'Corn', 'Amaro', 'Bitter Liqueurs',\n",
    "#                                                  'Cachaça ', 'Spirit', 'Non-Potable Bitters', \n",
    "#                                                  'Triple Sec/Curaçao', 'Anise Liqueurs', 'Arak',\n",
    "#                                                  'Sotol Reposado'],11)"
   ]
  },
  {
   "cell_type": "code",
   "execution_count": 18,
   "metadata": {},
   "outputs": [],
   "source": [
    "# whiskey_df['type'] = whiskey_df['type'].replace(['Wheat Whiskey', 'Grain', 'Single Grain', 'Blended Grain',\n",
    "#                                                 'Wheat', 'Barley'],9)"
   ]
  },
  {
   "cell_type": "code",
   "execution_count": 19,
   "metadata": {},
   "outputs": [],
   "source": [
    "# whiskey_df['type'] = whiskey_df['type'].replace('Scotch', 10)"
   ]
  },
  {
   "cell_type": "code",
   "execution_count": 20,
   "metadata": {},
   "outputs": [
    {
     "data": {
      "text/plain": [
       "Malt                             1119\n",
       "Bourbon                           390\n",
       "Blend                             294\n",
       "Rye                               107\n",
       "Scotch                             57\n",
       "Irish Whiskey                      32\n",
       "Japanese Whisky                    24\n",
       "American SIngle Malt                8\n",
       "Grain                               7\n",
       "American Malt Whiskey               7\n",
       "Finished Bourbon                    4\n",
       "Whiskey                             4\n",
       "Rye Whiskey                         4\n",
       "Wheat Whiskey                       4\n",
       "Tennessee Whiskey                   4\n",
       "Bourye                              3\n",
       "Corn Whiskey                        2\n",
       "Wheat                               2\n",
       "Taiwanese Single Malt Whiskey       2\n",
       "Finished Rye                        1\n",
       "American Single Malt                1\n",
       "Malt Whiskey                        1\n",
       "Japanese Whisky\\n                   1\n",
       "Flavored Whiskey                    1\n",
       "Blended Bourbon                     1\n",
       "Flavoured                           1\n",
       "Swedish Single Malt                 1\n",
       "American Whiskey                    1\n",
       "Barley                              1\n",
       "Finished Whiskey                    1\n",
       "Indian Single Malt                  1\n",
       "Name: type, dtype: int64"
      ]
     },
     "execution_count": 20,
     "metadata": {},
     "output_type": "execute_result"
    }
   ],
   "source": [
    "whiskey_df['type'].value_counts()"
   ]
  },
  {
   "cell_type": "code",
   "execution_count": 21,
   "metadata": {},
   "outputs": [],
   "source": [
    "whiskey_df.to_csv('CSV\\'s/full_whiskey_list.csv', index = False)"
   ]
  },
  {
   "cell_type": "code",
   "execution_count": null,
   "metadata": {},
   "outputs": [],
   "source": []
  }
 ],
 "metadata": {
  "kernelspec": {
   "display_name": "Python 3",
   "language": "python",
   "name": "python3"
  },
  "language_info": {
   "codemirror_mode": {
    "name": "ipython",
    "version": 3
   },
   "file_extension": ".py",
   "mimetype": "text/x-python",
   "name": "python",
   "nbconvert_exporter": "python",
   "pygments_lexer": "ipython3",
   "version": "3.7.4"
  }
 },
 "nbformat": 4,
 "nbformat_minor": 2
}
