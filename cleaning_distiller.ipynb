{
 "nbformat": 4,
 "nbformat_minor": 2,
 "metadata": {
  "language_info": {
   "name": "python",
   "codemirror_mode": {
    "name": "ipython",
    "version": 3
   },
   "version": "3.7.4-final"
  },
  "orig_nbformat": 2,
  "file_extension": ".py",
  "mimetype": "text/x-python",
  "name": "python",
  "npconvert_exporter": "python",
  "pygments_lexer": "ipython3",
  "version": 3,
  "kernelspec": {
   "name": "python37464bitbasecondaf2cf9f12698740e3927c7d386c90994a",
   "display_name": "Python 3.7.4 64-bit ('base': conda)"
  }
 },
 "cells": [
  {
   "cell_type": "code",
   "execution_count": 1,
   "metadata": {},
   "outputs": [],
   "source": [
    "import pandas as pd, numpy as np"
   ]
  },
  {
   "cell_type": "code",
   "execution_count": 7,
   "metadata": {},
   "outputs": [],
   "source": [
    "df = pd.read_csv('CSV\\'s/cleaned_distiller_2.csv')"
   ]
  },
  {
   "cell_type": "code",
   "execution_count": 8,
   "metadata": {},
   "outputs": [
    {
     "output_type": "execute_result",
     "data": {
      "text/plain": "                                                name  rating  \\\n0                                  Monkey 47 Dry Gin     9.9   \n1  Eric Bordelet Selection \"Henri Bernard Beudin\"...     9.9   \n2                           Cognac Dudognon Heritage     9.9   \n3                                     Hibiki 21 Year     9.9   \n4                                     Hibiki 21 Year     9.9   \n\n                 type  \n0          Modern Gin  \n1            Calvados  \n2              Cognac  \n3             Blended  \n4  Peated Single Malt  ",
      "text/html": "<div>\n<style scoped>\n    .dataframe tbody tr th:only-of-type {\n        vertical-align: middle;\n    }\n\n    .dataframe tbody tr th {\n        vertical-align: top;\n    }\n\n    .dataframe thead th {\n        text-align: right;\n    }\n</style>\n<table border=\"1\" class=\"dataframe\">\n  <thead>\n    <tr style=\"text-align: right;\">\n      <th></th>\n      <th>name</th>\n      <th>rating</th>\n      <th>type</th>\n    </tr>\n  </thead>\n  <tbody>\n    <tr>\n      <th>0</th>\n      <td>Monkey 47 Dry Gin</td>\n      <td>9.9</td>\n      <td>Modern Gin</td>\n    </tr>\n    <tr>\n      <th>1</th>\n      <td>Eric Bordelet Selection \"Henri Bernard Beudin\"...</td>\n      <td>9.9</td>\n      <td>Calvados</td>\n    </tr>\n    <tr>\n      <th>2</th>\n      <td>Cognac Dudognon Heritage</td>\n      <td>9.9</td>\n      <td>Cognac</td>\n    </tr>\n    <tr>\n      <th>3</th>\n      <td>Hibiki 21 Year</td>\n      <td>9.9</td>\n      <td>Blended</td>\n    </tr>\n    <tr>\n      <th>4</th>\n      <td>Hibiki 21 Year</td>\n      <td>9.9</td>\n      <td>Peated Single Malt</td>\n    </tr>\n  </tbody>\n</table>\n</div>"
     },
     "metadata": {},
     "execution_count": 8
    }
   ],
   "source": [
    "df.head()"
   ]
  },
  {
   "cell_type": "code",
   "execution_count": 13,
   "metadata": {},
   "outputs": [],
   "source": [
    "df['type'] = df['type'].astype('str')"
   ]
  },
  {
   "cell_type": "code",
   "execution_count": 14,
   "metadata": {},
   "outputs": [
    {
     "output_type": "execute_result",
     "data": {
      "text/plain": "                                                name  rating  \\\n0                                  Monkey 47 Dry Gin     9.9   \n1  Eric Bordelet Selection \"Henri Bernard Beudin\"...     9.9   \n2                           Cognac Dudognon Heritage     9.9   \n3                                     Hibiki 21 Year     9.9   \n4                                     Hibiki 21 Year     9.9   \n\n                 type  \n0          Modern Gin  \n1            Calvados  \n2              Cognac  \n3             Blended  \n4  Peated Single Malt  ",
      "text/html": "<div>\n<style scoped>\n    .dataframe tbody tr th:only-of-type {\n        vertical-align: middle;\n    }\n\n    .dataframe tbody tr th {\n        vertical-align: top;\n    }\n\n    .dataframe thead th {\n        text-align: right;\n    }\n</style>\n<table border=\"1\" class=\"dataframe\">\n  <thead>\n    <tr style=\"text-align: right;\">\n      <th></th>\n      <th>name</th>\n      <th>rating</th>\n      <th>type</th>\n    </tr>\n  </thead>\n  <tbody>\n    <tr>\n      <th>0</th>\n      <td>Monkey 47 Dry Gin</td>\n      <td>9.9</td>\n      <td>Modern Gin</td>\n    </tr>\n    <tr>\n      <th>1</th>\n      <td>Eric Bordelet Selection \"Henri Bernard Beudin\"...</td>\n      <td>9.9</td>\n      <td>Calvados</td>\n    </tr>\n    <tr>\n      <th>2</th>\n      <td>Cognac Dudognon Heritage</td>\n      <td>9.9</td>\n      <td>Cognac</td>\n    </tr>\n    <tr>\n      <th>3</th>\n      <td>Hibiki 21 Year</td>\n      <td>9.9</td>\n      <td>Blended</td>\n    </tr>\n    <tr>\n      <th>4</th>\n      <td>Hibiki 21 Year</td>\n      <td>9.9</td>\n      <td>Peated Single Malt</td>\n    </tr>\n  </tbody>\n</table>\n</div>"
     },
     "metadata": {},
     "execution_count": 14
    }
   ],
   "source": [
    "df.head()"
   ]
  },
  {
   "cell_type": "code",
   "execution_count": null,
   "metadata": {},
   "outputs": [],
   "source": []
  }
 ]
}