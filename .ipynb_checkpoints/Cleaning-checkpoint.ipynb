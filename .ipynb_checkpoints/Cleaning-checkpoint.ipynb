{
 "cells": [
  {
   "cell_type": "code",
   "execution_count": 19,
   "metadata": {},
   "outputs": [],
   "source": [
    "import pandas as pd, numpy as np"
   ]
  },
  {
   "cell_type": "code",
   "execution_count": 20,
   "metadata": {},
   "outputs": [],
   "source": [
    "distiller = pd.read_csv('/Users/PatrickHubbell/dsi-us-10/Capstone/CSV\\'s/distiller.csv')\n",
    "meta = pd.read_csv('/Users/PatrickHubbell/dsi-us-10/Capstone/CSV\\'s/meta_critic.csv')\n",
    "thirst = pd.read_csv('/Users/PatrickHubbell/dsi-us-10/Capstone/CSV\\'s/modern_thirst.csv')\n",
    "distiller_style = pd.read_csv('/Users/PatrickHubbell/dsi-us-10/Capstone/CSV\\'s/distilled_styles.csv')\n",
    "thirst_style = pd.read_csv('/Users/PatrickHubbell/dsi-us-10/Capstone/CSV\\'s/modern_thirst_styles.csv')"
   ]
  },
  {
   "cell_type": "code",
   "execution_count": 21,
   "metadata": {},
   "outputs": [
    {
     "output_type": "stream",
     "name": "stdout",
     "text": "Unnamed: 0                                               name  rating\n0           0                              \\nMonkey 47 Dry Gin\\n      99\n1           1  \\nEric Bordelet Selection \"Henri Bernard Beudi...      99\n2           2                       \\nCognac Dudognon Heritage\\n      99\n3           3                                 \\nHibiki 21 Year\\n      99\n4           4                                 \\nHibiki 21 Year\\n      99\n\n                                              Whisky  Meta Critic  STDEV   #  \\\n0                                Ledaig 42yo Dusgadh         9.48   0.23   3   \n1  Laphroaig 27yo 57.4% 1980-2007 (OB, 5 Oloroso ...         9.42   0.22   4   \n2                                   Glenfarclas 40yo         9.30   0.27  17   \n3                       Aberlour A'Bunadh (Batch 56)         9.25   0.24   3   \n4                                     Glengoyne 25yo         9.25   0.22  21   \n\n     Cost            Class Super Cluster Cluster   Country  Type  \n0  $$$$$+  SingleMalt-like           ABC       C  Scotland  Malt  \n1  $$$$$+  SingleMalt-like           ABC       C  Scotland  Malt  \n2  $$$$$+  SingleMalt-like           ABC       A  Scotland  Malt  \n3    $$$$  SingleMalt-like           ABC       A  Scotland  Malt  \n4  $$$$$+  SingleMalt-like           ABC       A  Scotland  Malt  \n\n   Unnamed: 0                                               name rating\n0           0                      2bar Straight Bourbon Whiskey   85\\n\n1           1                                    1792 Full Proof   91\\n\n2           2             1792 Full Proof Single Barrel (Kroger)     89\n3           3  1792 Full Proof Single Barrel (The Bourbon Soc...     94\n4           4                                 1792 Single Barrel     88\n"
    }
   ],
   "source": [
    "print(distiller.head())\n",
    "print()\n",
    "print(meta.head())\n",
    "print()\n",
    "print(thirst.head())"
   ]
  },
  {
   "cell_type": "code",
   "execution_count": 22,
   "metadata": {},
   "outputs": [],
   "source": [
    "meta = meta[['Whisky', 'Meta Critic', 'Type']]\n",
    "meta.rename(columns = {'Whisky':'name','Meta Critic':'rating'}, inplace = True)"
   ]
  },
  {
   "cell_type": "code",
   "execution_count": 23,
   "metadata": {},
   "outputs": [
    {
     "output_type": "stream",
     "name": "stdout",
     "text": "(18920, 3)\n(1708, 3)\n(387, 3)\n"
    }
   ],
   "source": [
    "print(distiller.shape)\n",
    "print(meta.shape)\n",
    "print(thirst.shape)"
   ]
  },
  {
   "cell_type": "code",
   "execution_count": 24,
   "metadata": {},
   "outputs": [],
   "source": [
    "new = distiller_style['style/type'].str.split(',', n=1, expand = True)\n",
    "distiller_style['style'] = new[0]"
   ]
  },
  {
   "cell_type": "code",
   "execution_count": 25,
   "metadata": {},
   "outputs": [],
   "source": [
    "distiller.drop('Unnamed: 0', axis=1, inplace=True)\n",
    "thirst.drop('Unnamed: 0', axis=1, inplace=True)\n",
    "thirst.drop([66,112,130,144,147,174,309,376], inplace = True)\n",
    "distiller_style.drop(columns=['style/type'], axis = 1, inplace = True)\n",
    "thirst_style.drop(columns= ['Unnamed: 0'], axis = 1, inplace = True)"
   ]
  },
  {
   "cell_type": "code",
   "execution_count": 26,
   "metadata": {},
   "outputs": [],
   "source": [
    "distiller['name'] = distiller['name'].replace('\\n','', regex=True)\n",
    "\n",
    "thirst['name'] = thirst['name'].replace('\\n','', regex=True)\n",
    "thirst['rating'] = thirst['rating'].replace('\\n','', regex=True)\n",
    "thirst['rating'] = thirst['rating'].replace('A', 94)\n",
    "thirst['rating'] = thirst['rating'].replace('A-', 91)\n",
    "thirst['rating'] = thirst['rating'].replace('B+', 88)\n",
    "thirst['rating'] = thirst['rating'].replace('B', 85)\n",
    "thirst['rating'] = thirst['rating'].replace('B-', 81)\n",
    "thirst['rating'] = thirst['rating'].replace('C+', 78)\n",
    "thirst['rating'] = thirst['rating'].replace('C', 75)\n",
    "thirst['rating'] = thirst['rating'].replace('C-', 72)\n",
    "thirst['rating'] = thirst['rating'].replace('D+', 70)\n",
    "thirst['rating'] = thirst['rating'].replace('D', 65)\n",
    "thirst['rating'] = thirst['rating'].replace('F', 59)\n",
    "thirst['rating'] = thirst['rating'].replace('B/B+', 86)\n",
    "thirst['rating'] = thirst['rating'].replace('C/C+', 76)\n",
    "thirst['rating'] = thirst['rating'].replace('C/C-', 73)\n",
    "thirst['rating'] = thirst['rating'].replace('B/B-', 83)\n",
    "thirst['rating'] = thirst['rating'].replace('86-', 86)\n",
    "thirst['rating'] = thirst['rating'].replace('82-', 82)\n",
    "thirst['rating'] = thirst['rating'].replace(' 93', 93)"
   ]
  },
  {
   "cell_type": "code",
   "execution_count": 27,
   "metadata": {},
   "outputs": [],
   "source": [
    "distiller = distiller.astype({'rating': float})\n",
    "\n",
    "thirst = thirst.astype({'rating': float})"
   ]
  },
  {
   "cell_type": "code",
   "execution_count": 28,
   "metadata": {},
   "outputs": [
    {
     "output_type": "stream",
     "name": "stdout",
     "text": "name       object\nrating    float64\nType       object\ndtype: object\n\nname       object\nrating    float64\ndtype: object\n\nname       object\nrating    float64\ndtype: object\n"
    }
   ],
   "source": [
    "print(meta.dtypes)\n",
    "print()\n",
    "print(distiller.dtypes)\n",
    "print()\n",
    "print(thirst.dtypes)"
   ]
  },
  {
   "cell_type": "code",
   "execution_count": 29,
   "metadata": {},
   "outputs": [
    {
     "output_type": "stream",
     "name": "stdout",
     "text": "name  rating\n0                                  Monkey 47 Dry Gin    99.0\n1  Eric Bordelet Selection \"Henri Bernard Beudin\"...    99.0\n2                           Cognac Dudognon Heritage    99.0\n3                                     Hibiki 21 Year    99.0\n4                                     Hibiki 21 Year    99.0\n\n                                                name  rating\n0                      2bar Straight Bourbon Whiskey    85.0\n1                                    1792 Full Proof    91.0\n2             1792 Full Proof Single Barrel (Kroger)    89.0\n3  1792 Full Proof Single Barrel (The Bourbon Soc...    94.0\n4                                 1792 Single Barrel    88.0\n"
    }
   ],
   "source": [
    "print(distiller.head())\n",
    "print()\n",
    "print(thirst.head())"
   ]
  },
  {
   "cell_type": "code",
   "execution_count": 30,
   "metadata": {},
   "outputs": [
    {
     "output_type": "stream",
     "name": "stdout",
     "text": "name      0\nrating    0\ndtype: int64\n\nname      0\nrating    0\nType      0\ndtype: int64\n\nname      0\nrating    0\ndtype: int64\n"
    }
   ],
   "source": [
    "print(distiller.isnull().sum())\n",
    "print()\n",
    "print(meta.isnull().sum())\n",
    "print()\n",
    "print(thirst.isnull().sum())"
   ]
  },
  {
   "cell_type": "code",
   "execution_count": 31,
   "metadata": {},
   "outputs": [
    {
     "output_type": "execute_result",
     "data": {
      "text/plain": "40.0    13660\n90.0      454\n88.0      428\n87.0      389\n85.0      334\n89.0      316\n86.0      315\n92.0      313\n84.0      307\n82.0      259\n91.0      259\n83.0      241\n80.0      231\n93.0      210\n94.0      172\n81.0      127\n79.0      125\n78.0      105\n95.0      101\n96.0       84\n75.0       77\n77.0       55\n70.0       46\n72.0       44\n97.0       40\n76.0       33\n74.0       31\n98.0       25\n73.0       25\n65.0       18\n68.0       17\n71.0       17\n69.0       13\n55.0        8\n60.0        7\n99.0        6\n62.0        6\n50.0        5\n66.0        5\n59.0        4\n58.0        3\n67.0        2\n52.0        1\n54.0        1\n64.0        1\nName: rating, dtype: int64"
     },
     "metadata": {},
     "execution_count": 31
    }
   ],
   "source": [
    "distiller['rating'].value_counts()"
   ]
  },
  {
   "cell_type": "code",
   "execution_count": 32,
   "metadata": {},
   "outputs": [
    {
     "output_type": "execute_result",
     "data": {
      "text/plain": "8.84    26\n8.70    24\n8.66    23\n8.85    23\n8.51    23\n        ..\n7.69     1\n7.13     1\n7.06     1\n7.53     1\n7.74     1\nName: rating, Length: 209, dtype: int64"
     },
     "metadata": {},
     "execution_count": 32
    }
   ],
   "source": [
    "meta['rating'].value_counts()"
   ]
  },
  {
   "cell_type": "code",
   "execution_count": 33,
   "metadata": {},
   "outputs": [
    {
     "output_type": "execute_result",
     "data": {
      "text/plain": "88.0    43\n85.0    35\n91.0    34\n86.0    33\n90.0    30\n92.0    22\n87.0    22\n89.0    21\n84.0    14\n83.0    12\n93.0    11\n94.0    10\n82.0    10\n78.0    10\n75.0     9\n81.0     8\n79.0     6\n95.0     5\n88.5     4\n76.0     4\n80.0     4\n72.0     3\n83.5     3\n85.5     3\n69.0     2\n89.5     2\n77.0     2\n73.0     2\n93.5     2\n91.5     2\n86.5     1\n87.5     1\n55.0     1\n94.5     1\n66.0     1\n96.0     1\n68.0     1\n67.0     1\n77.5     1\n70.0     1\n81.3     1\nName: rating, dtype: int64"
     },
     "metadata": {},
     "execution_count": 33
    }
   ],
   "source": [
    "thirst['rating'].value_counts()"
   ]
  },
  {
   "cell_type": "code",
   "execution_count": 34,
   "metadata": {},
   "outputs": [],
   "source": [
    "thirst['rating'] = thirst['rating']/10\n",
    "distiller['rating'] = distiller['rating']/10"
   ]
  },
  {
   "cell_type": "code",
   "execution_count": 35,
   "metadata": {},
   "outputs": [],
   "source": [
    "thirst = thirst.merge(thirst_style, left_index=True, right_index=True)"
   ]
  },
  {
   "cell_type": "code",
   "execution_count": 36,
   "metadata": {},
   "outputs": [],
   "source": [
    "distiller = distiller.merge(distiller_style, left_index=True, right_index=True)"
   ]
  },
  {
   "cell_type": "code",
   "execution_count": 38,
   "metadata": {},
   "outputs": [],
   "source": [
    "distiller.to_csv('/Users/PatrickHubbell/dsi-us-10/Capstone/CSV\\'s/cleaned_distiller_2.csv', index = False)\n",
    "meta.to_csv('/Users/PatrickHubbell/dsi-us-10/Capstone/CSV\\'s/cleaned_meta_2.csv', index = False)\n",
    "thirst.to_csv('/Users/PatrickHubbell/dsi-us-10/Capstone/CSV\\'s/cleaned_thirst_2.csv', index = False)"
   ]
  },
  {
   "cell_type": "code",
   "execution_count": null,
   "metadata": {},
   "outputs": [],
   "source": []
  }
 ],
 "metadata": {
  "kernelspec": {
   "display_name": "Python 3",
   "language": "python",
   "name": "python3"
  },
  "language_info": {
   "codemirror_mode": {
    "name": "ipython",
    "version": 3
   },
   "file_extension": ".py",
   "mimetype": "text/x-python",
   "name": "python",
   "nbconvert_exporter": "python",
   "pygments_lexer": "ipython3",
   "version": "3.7.4-final"
  }
 },
 "nbformat": 4,
 "nbformat_minor": 2
}