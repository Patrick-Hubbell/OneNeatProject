{
 "cells": [
  {
   "cell_type": "code",
   "execution_count": 1,
   "metadata": {},
   "outputs": [],
   "source": [
    "import pandas as pd\n",
    "from scipy import sparse\n",
    "from sklearn.metrics.pairwise import pairwise_distances, cosine_similarity\n",
    "from sklearn.preprocessing import StandardScaler, MinMaxScaler"
   ]
  },
  {
   "cell_type": "code",
   "execution_count": 2,
   "metadata": {},
   "outputs": [],
   "source": [
    "df = pd.read_csv('CSV\\'s/full_whiskey_list.csv')\n"
   ]
  },
  {
   "cell_type": "code",
   "execution_count": 3,
   "metadata": {},
   "outputs": [],
   "source": [
    "drops =  df[df['rating'] != 4.0]"
   ]
  },
  {
   "cell_type": "code",
   "execution_count": 4,
   "metadata": {},
   "outputs": [
    {
     "data": {
      "text/plain": [
       "8.80    62\n",
       "8.50    55\n",
       "8.60    47\n",
       "8.70    46\n",
       "9.00    44\n",
       "        ..\n",
       "6.80     1\n",
       "9.32     1\n",
       "9.28     1\n",
       "7.05     1\n",
       "9.38     1\n",
       "Name: rating, Length: 220, dtype: int64"
      ]
     },
     "execution_count": 4,
     "metadata": {},
     "output_type": "execute_result"
    }
   ],
   "source": [
    "drops['rating'].value_counts()"
   ]
  },
  {
   "cell_type": "code",
   "execution_count": 5,
   "metadata": {},
   "outputs": [],
   "source": [
    "mms = MinMaxScaler()\n",
    "drops['mms_rating'] = mms.fit_transform(drops['rating'].values.reshape(-1,1))"
   ]
  },
  {
   "cell_type": "code",
   "execution_count": 6,
   "metadata": {},
   "outputs": [],
   "source": [
    "ss = StandardScaler()\n",
    "drops['ss_rating'] = ss.fit_transform(drops['rating'].values.reshape(-1,1))"
   ]
  },
  {
   "cell_type": "code",
   "execution_count": 7,
   "metadata": {},
   "outputs": [],
   "source": [
    "mms_pivot_df = drops.pivot_table(index = 'name', columns = 'type', values='mms_rating')"
   ]
  },
  {
   "cell_type": "code",
   "execution_count": 8,
   "metadata": {},
   "outputs": [],
   "source": [
    "ss_pivot_df = drops.pivot_table(index = 'name', columns = 'type', values='ss_rating')"
   ]
  },
  {
   "cell_type": "code",
   "execution_count": 9,
   "metadata": {},
   "outputs": [],
   "source": [
    "mms_pivot_df_sparse = sparse.csr_matrix(mms_pivot_df.fillna(0))"
   ]
  },
  {
   "cell_type": "code",
   "execution_count": 10,
   "metadata": {},
   "outputs": [],
   "source": [
    "ss_pivot_df_sparse = sparse.csr_matrix(ss_pivot_df.fillna(0))"
   ]
  },
  {
   "cell_type": "code",
   "execution_count": 11,
   "metadata": {},
   "outputs": [],
   "source": [
    "mms_cs_recommender = cosine_similarity(mms_pivot_df_sparse)"
   ]
  },
  {
   "cell_type": "code",
   "execution_count": 12,
   "metadata": {},
   "outputs": [],
   "source": [
    "ss_cs_recommender = cosine_similarity(ss_pivot_df_sparse)"
   ]
  },
  {
   "cell_type": "code",
   "execution_count": 13,
   "metadata": {},
   "outputs": [],
   "source": [
    "mms_cs_whiskey_recommender = pd.DataFrame(mms_cs_recommender,\n",
    "                                     index=mms_pivot_df.index,\n",
    "                                     columns=mms_pivot_df.index)"
   ]
  },
  {
   "cell_type": "code",
   "execution_count": 14,
   "metadata": {},
   "outputs": [],
   "source": [
    "ss_cs_whiskey_recommender = pd.DataFrame(ss_cs_recommender,\n",
    "                                     index=ss_pivot_df.index,\n",
    "                                     columns=ss_pivot_df.index)"
   ]
  },
  {
   "cell_type": "code",
   "execution_count": 15,
   "metadata": {},
   "outputs": [
    {
     "name": "stdout",
     "output_type": "stream",
     "text": [
      "Pick a Whiskey you like:Bushmills Black Bush\n",
      "\n",
      "Bushmills Black Bush\n",
      "\n",
      "name\n",
      "Johnnie Walker 15yo Green Label                   1.0\n",
      "Johnnie Walker Gold Label Reserve                 1.0\n",
      "Johnnie Walker Explorer’s Club The Spice Road     1.0\n",
      "Johnnie Walker Explorer’s Club The Royal Route    1.0\n",
      "Johnnie Walker Explorer’s Club The Gold Route     1.0\n",
      "Johnnie Walker Explorer’s Club The Adventurer     1.0\n",
      "Johnnie Walker Double Black                       1.0\n",
      "Johnnie Walker Blue Label                         1.0\n",
      "Johnnie Walker 12yo Black Label                   1.0\n",
      "Bushmills Original Blended                        1.0\n",
      "Name: Bushmills Black Bush, dtype: float64\n",
      "\n"
     ]
    }
   ],
   "source": [
    "q = input('Pick a Whiskey you like:')\n",
    "print()\n",
    "names = df.loc[df['name'].str.contains(q), 'name']\n",
    "\n",
    "for name in names:\n",
    "    print(name)\n",
    "    print()\n",
    "    print(mms_cs_whiskey_recommender[name].sort_values(ascending = False)[1:11])\n",
    "    print()"
   ]
  },
  {
   "cell_type": "code",
   "execution_count": 18,
   "metadata": {},
   "outputs": [
    {
     "name": "stdout",
     "output_type": "stream",
     "text": [
      "Pick a Whiskey you like:Vons\n",
      "\n"
     ]
    }
   ],
   "source": [
    "q = input('Pick a Whiskey you like:')\n",
    "print()\n",
    "names = df.loc[df['name'].str.contains(q), 'name']\n",
    "\n",
    "for name in names:\n",
    "    print(name)\n",
    "    print()\n",
    "    print(ss_cs_whiskey_recommender[name].sort_values(ascending = False)[1:11])\n",
    "    print()"
   ]
  },
  {
   "cell_type": "code",
   "execution_count": null,
   "metadata": {},
   "outputs": [],
   "source": []
  }
 ],
 "metadata": {
  "kernelspec": {
   "display_name": "Python 3",
   "language": "python",
   "name": "python3"
  },
  "language_info": {
   "codemirror_mode": {
    "name": "ipython",
    "version": 3
   },
   "file_extension": ".py",
   "mimetype": "text/x-python",
   "name": "python",
   "nbconvert_exporter": "python",
   "pygments_lexer": "ipython3",
   "version": "3.7.4"
  }
 },
 "nbformat": 4,
 "nbformat_minor": 2
}
