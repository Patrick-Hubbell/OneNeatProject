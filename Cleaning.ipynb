{
 "cells": [
  {
   "cell_type": "code",
   "execution_count": 1,
   "metadata": {},
   "outputs": [],
   "source": [
    "import pandas as pd, numpy as np"
   ]
  },
  {
   "cell_type": "code",
   "execution_count": 2,
   "metadata": {},
   "outputs": [],
   "source": [
    "distiller = pd.read_csv('CSV\\'s/distiller.csv')\n",
    "meta = pd.read_csv('CSV\\'s/meta_critic.csv')\n",
    "thirst = pd.read_csv('CSV\\'s/modern_thirst.csv')\n",
    "distiller_style = pd.read_csv('CSV\\'s/distilled_styles.csv')\n",
    "thirst_style = pd.read_csv('CSV\\'s/modern_thirst_styles.csv')"
   ]
  },
  {
   "cell_type": "code",
   "execution_count": 3,
   "metadata": {},
   "outputs": [
    {
     "name": "stdout",
     "output_type": "stream",
     "text": [
      "   Unnamed: 0                                               name  rating\n",
      "0           0                              \\nMonkey 47 Dry Gin\\n      99\n",
      "1           1  \\nEric Bordelet Selection \"Henri Bernard Beudi...      99\n",
      "2           2                       \\nCognac Dudognon Heritage\\n      99\n",
      "3           3                                 \\nHibiki 21 Year\\n      99\n",
      "4           4                                 \\nHibiki 21 Year\\n      99\n",
      "                                              Whisky  Meta Critic  STDEV   #  \\\n",
      "0                                Ledaig 42yo Dusgadh         9.48   0.23   3   \n",
      "1  Laphroaig 27yo 57.4% 1980-2007 (OB, 5 Oloroso ...         9.42   0.22   4   \n",
      "2                                   Glenfarclas 40yo         9.30   0.27  17   \n",
      "3                       Aberlour A'Bunadh (Batch 56)         9.25   0.24   3   \n",
      "4                                     Glengoyne 25yo         9.25   0.22  21   \n",
      "\n",
      "     Cost            Class Super Cluster Cluster   Country  Type  \n",
      "0  $$$$$+  SingleMalt-like           ABC       C  Scotland  Malt  \n",
      "1  $$$$$+  SingleMalt-like           ABC       C  Scotland  Malt  \n",
      "2  $$$$$+  SingleMalt-like           ABC       A  Scotland  Malt  \n",
      "3    $$$$  SingleMalt-like           ABC       A  Scotland  Malt  \n",
      "4  $$$$$+  SingleMalt-like           ABC       A  Scotland  Malt  \n",
      "   Unnamed: 0                                               name rating\n",
      "0           0                      2bar Straight Bourbon Whiskey   85\\n\n",
      "1           1                                    1792 Full Proof   91\\n\n",
      "2           2             1792 Full Proof Single Barrel (Kroger)     89\n",
      "3           3  1792 Full Proof Single Barrel (The Bourbon Soc...     94\n",
      "4           4                                 1792 Single Barrel     88\n"
     ]
    }
   ],
   "source": [
    "print(distiller.head())\n",
    "print(meta.head())\n",
    "print(thirst.head())"
   ]
  },
  {
   "cell_type": "code",
   "execution_count": 4,
   "metadata": {},
   "outputs": [],
   "source": [
    "meta = meta[['Whisky', 'Meta Critic', 'Type']]\n",
    "meta.rename(columns = {'Whisky':'name','Meta Critic':'rating'}, inplace = True)"
   ]
  },
  {
   "cell_type": "code",
   "execution_count": 5,
   "metadata": {},
   "outputs": [
    {
     "name": "stdout",
     "output_type": "stream",
     "text": [
      "(18920, 3)\n",
      "(1708, 3)\n",
      "(387, 3)\n"
     ]
    }
   ],
   "source": [
    "print(distiller.shape)\n",
    "print(meta.shape)\n",
    "print(thirst.shape)"
   ]
  },
  {
   "cell_type": "code",
   "execution_count": 6,
   "metadata": {},
   "outputs": [],
   "source": [
    "new = distiller_style['style/type'].str.split(',', n=1, expand = True)\n",
    "distiller_style['style'] = new[0]"
   ]
  },
  {
   "cell_type": "code",
   "execution_count": 7,
   "metadata": {},
   "outputs": [],
   "source": [
    "distiller.drop('Unnamed: 0', axis=1, inplace=True)\n",
    "thirst.drop('Unnamed: 0', axis=1, inplace=True)\n",
    "thirst.drop([66,112,130,144,147,174,309,376], inplace = True)\n",
    "distiller_style.drop(columns=['style/type'], axis = 1, inplace = True)\n",
    "thirst_style.drop(columns= ['Unnamed: 0'], axis = 1, inplace = True)"
   ]
  },
  {
   "cell_type": "code",
   "execution_count": 8,
   "metadata": {},
   "outputs": [],
   "source": [
    "distiller['name'] = distiller['name'].replace('\\n','', regex=True)\n",
    "\n",
    "thirst['name'] = thirst['name'].replace('\\n','', regex=True)\n",
    "thirst['rating'] = thirst['rating'].replace('\\n','', regex=True)\n",
    "thirst['rating'] = thirst['rating'].replace('A', 94)\n",
    "thirst['rating'] = thirst['rating'].replace('A-', 91)\n",
    "thirst['rating'] = thirst['rating'].replace('B+', 88)\n",
    "thirst['rating'] = thirst['rating'].replace('B', 85)\n",
    "thirst['rating'] = thirst['rating'].replace('B-', 81)\n",
    "thirst['rating'] = thirst['rating'].replace('C+', 78)\n",
    "thirst['rating'] = thirst['rating'].replace('C', 75)\n",
    "thirst['rating'] = thirst['rating'].replace('C-', 72)\n",
    "thirst['rating'] = thirst['rating'].replace('D+', 70)\n",
    "thirst['rating'] = thirst['rating'].replace('D', 65)\n",
    "thirst['rating'] = thirst['rating'].replace('F', 59)\n",
    "thirst['rating'] = thirst['rating'].replace('B/B+', 86)\n",
    "thirst['rating'] = thirst['rating'].replace('C/C+', 76)\n",
    "thirst['rating'] = thirst['rating'].replace('C/C-', 73)\n",
    "thirst['rating'] = thirst['rating'].replace('B/B-', 83)\n",
    "thirst['rating'] = thirst['rating'].replace('86-', 86)\n",
    "thirst['rating'] = thirst['rating'].replace('82-', 82)\n",
    "thirst['rating'] = thirst['rating'].replace(' 93', 93)"
   ]
  },
  {
   "cell_type": "code",
   "execution_count": 9,
   "metadata": {},
   "outputs": [],
   "source": [
    "distiller = distiller.astype({'rating': float})\n",
    "\n",
    "thirst = thirst.astype({'rating': float})"
   ]
  },
  {
   "cell_type": "code",
   "execution_count": 10,
   "metadata": {},
   "outputs": [
    {
     "name": "stdout",
     "output_type": "stream",
     "text": [
      "name       object\n",
      "rating    float64\n",
      "Type       object\n",
      "dtype: object\n",
      "\n",
      "name       object\n",
      "rating    float64\n",
      "dtype: object\n",
      "\n",
      "name       object\n",
      "rating    float64\n",
      "dtype: object\n"
     ]
    }
   ],
   "source": [
    "print(meta.dtypes)\n",
    "print()\n",
    "print(distiller.dtypes)\n",
    "print()\n",
    "print(thirst.dtypes)"
   ]
  },
  {
   "cell_type": "code",
   "execution_count": 11,
   "metadata": {},
   "outputs": [
    {
     "name": "stdout",
     "output_type": "stream",
     "text": [
      "                                                name  rating\n",
      "0                                  Monkey 47 Dry Gin    99.0\n",
      "1  Eric Bordelet Selection \"Henri Bernard Beudin\"...    99.0\n",
      "2                           Cognac Dudognon Heritage    99.0\n",
      "3                                     Hibiki 21 Year    99.0\n",
      "4                                     Hibiki 21 Year    99.0\n",
      "                                                name  rating\n",
      "0                      2bar Straight Bourbon Whiskey    85.0\n",
      "1                                    1792 Full Proof    91.0\n",
      "2             1792 Full Proof Single Barrel (Kroger)    89.0\n",
      "3  1792 Full Proof Single Barrel (The Bourbon Soc...    94.0\n",
      "4                                 1792 Single Barrel    88.0\n"
     ]
    }
   ],
   "source": [
    "print(distiller.head())\n",
    "print(thirst.head())"
   ]
  },
  {
   "cell_type": "code",
   "execution_count": 12,
   "metadata": {},
   "outputs": [
    {
     "name": "stdout",
     "output_type": "stream",
     "text": [
      "name      0\n",
      "rating    0\n",
      "dtype: int64\n",
      "\n",
      "name      0\n",
      "rating    0\n",
      "Type      0\n",
      "dtype: int64\n",
      "\n",
      "name      0\n",
      "rating    0\n",
      "dtype: int64\n"
     ]
    }
   ],
   "source": [
    "print(distiller.isnull().sum())\n",
    "print()\n",
    "print(meta.isnull().sum())\n",
    "print()\n",
    "print(thirst.isnull().sum())"
   ]
  },
  {
   "cell_type": "code",
   "execution_count": 13,
   "metadata": {},
   "outputs": [
    {
     "data": {
      "text/plain": [
       "40.0    13660\n",
       "90.0      454\n",
       "88.0      428\n",
       "87.0      389\n",
       "85.0      334\n",
       "89.0      316\n",
       "86.0      315\n",
       "92.0      313\n",
       "84.0      307\n",
       "82.0      259\n",
       "91.0      259\n",
       "83.0      241\n",
       "80.0      231\n",
       "93.0      210\n",
       "94.0      172\n",
       "81.0      127\n",
       "79.0      125\n",
       "78.0      105\n",
       "95.0      101\n",
       "96.0       84\n",
       "75.0       77\n",
       "77.0       55\n",
       "70.0       46\n",
       "72.0       44\n",
       "97.0       40\n",
       "76.0       33\n",
       "74.0       31\n",
       "98.0       25\n",
       "73.0       25\n",
       "65.0       18\n",
       "68.0       17\n",
       "71.0       17\n",
       "69.0       13\n",
       "55.0        8\n",
       "60.0        7\n",
       "99.0        6\n",
       "62.0        6\n",
       "50.0        5\n",
       "66.0        5\n",
       "59.0        4\n",
       "58.0        3\n",
       "67.0        2\n",
       "52.0        1\n",
       "54.0        1\n",
       "64.0        1\n",
       "Name: rating, dtype: int64"
      ]
     },
     "execution_count": 13,
     "metadata": {},
     "output_type": "execute_result"
    }
   ],
   "source": [
    "distiller['rating'].value_counts()"
   ]
  },
  {
   "cell_type": "code",
   "execution_count": 14,
   "metadata": {},
   "outputs": [
    {
     "data": {
      "text/plain": [
       "8.84    26\n",
       "8.70    24\n",
       "8.66    23\n",
       "8.85    23\n",
       "8.51    23\n",
       "        ..\n",
       "7.69     1\n",
       "7.13     1\n",
       "7.06     1\n",
       "7.53     1\n",
       "7.74     1\n",
       "Name: rating, Length: 209, dtype: int64"
      ]
     },
     "execution_count": 14,
     "metadata": {},
     "output_type": "execute_result"
    }
   ],
   "source": [
    "meta['rating'].value_counts()"
   ]
  },
  {
   "cell_type": "code",
   "execution_count": 15,
   "metadata": {},
   "outputs": [
    {
     "data": {
      "text/plain": [
       "88.0    43\n",
       "85.0    35\n",
       "91.0    34\n",
       "86.0    33\n",
       "90.0    30\n",
       "92.0    22\n",
       "87.0    22\n",
       "89.0    21\n",
       "84.0    14\n",
       "83.0    12\n",
       "93.0    11\n",
       "94.0    10\n",
       "82.0    10\n",
       "78.0    10\n",
       "75.0     9\n",
       "81.0     8\n",
       "79.0     6\n",
       "95.0     5\n",
       "88.5     4\n",
       "76.0     4\n",
       "80.0     4\n",
       "72.0     3\n",
       "83.5     3\n",
       "85.5     3\n",
       "69.0     2\n",
       "89.5     2\n",
       "77.0     2\n",
       "73.0     2\n",
       "93.5     2\n",
       "91.5     2\n",
       "86.5     1\n",
       "87.5     1\n",
       "55.0     1\n",
       "94.5     1\n",
       "66.0     1\n",
       "96.0     1\n",
       "68.0     1\n",
       "67.0     1\n",
       "77.5     1\n",
       "70.0     1\n",
       "81.3     1\n",
       "Name: rating, dtype: int64"
      ]
     },
     "execution_count": 15,
     "metadata": {},
     "output_type": "execute_result"
    }
   ],
   "source": [
    "thirst['rating'].value_counts()"
   ]
  },
  {
   "cell_type": "code",
   "execution_count": 16,
   "metadata": {},
   "outputs": [],
   "source": [
    "thirst['rating'] = thirst['rating']/10\n",
    "distiller['rating'] = distiller['rating']/10"
   ]
  },
  {
   "cell_type": "code",
   "execution_count": 17,
   "metadata": {},
   "outputs": [],
   "source": [
    "thirst = thirst.merge(thirst_style, left_index=True, right_index=True)"
   ]
  },
  {
   "cell_type": "code",
   "execution_count": 18,
   "metadata": {},
   "outputs": [],
   "source": [
    "distiller = distiller.merge(distiller_style, left_index=True, right_index=True)"
   ]
  },
  {
   "cell_type": "code",
   "execution_count": 19,
   "metadata": {},
   "outputs": [],
   "source": [
    "distiller.to_csv('CSV\\'s/cleaned_distiller_2.csv', index = False)\n",
    "meta.to_csv('CSV\\'s/cleaned_meta_2.csv', index = False)\n",
    "thirst.to_csv('CSV\\'s/cleaned_thirst_2.csv', index = False)"
   ]
  },
  {
   "cell_type": "code",
   "execution_count": null,
   "metadata": {},
   "outputs": [],
   "source": []
  }
 ],
 "metadata": {
  "kernelspec": {
   "display_name": "Python 3",
   "language": "python",
   "name": "python3"
  },
  "language_info": {
   "codemirror_mode": {
    "name": "ipython",
    "version": 3
   },
   "file_extension": ".py",
   "mimetype": "text/x-python",
   "name": "python",
   "nbconvert_exporter": "python",
   "pygments_lexer": "ipython3",
   "version": "3.7.4"
  }
 },
 "nbformat": 4,
 "nbformat_minor": 2
}
