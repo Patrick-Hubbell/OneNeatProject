{
 "cells": [
  {
   "cell_type": "code",
   "execution_count": 1,
   "metadata": {},
   "outputs": [],
   "source": [
    "import pandas as pd\n",
    "from scipy import sparse\n",
    "from sklearn.metrics.pairwise import pairwise_distances, cosine_similarity\n",
    "from sklearn.preprocessing import StandardScaler, MinMaxScaler"
   ]
  },
  {
   "cell_type": "code",
   "execution_count": 2,
   "metadata": {},
   "outputs": [],
   "source": [
    "df = pd.read_csv('CSV\\'s/full_whiskey_list.csv')\n"
   ]
  },
  {
   "cell_type": "code",
   "execution_count": 3,
   "metadata": {},
   "outputs": [],
   "source": [
    "drops =  df[df['rating'] != 4.0]"
   ]
  },
  {
   "cell_type": "code",
   "execution_count": 4,
   "metadata": {},
   "outputs": [
    {
     "data": {
      "text/plain": [
       "8.80    62\n",
       "8.50    55\n",
       "8.60    47\n",
       "8.70    46\n",
       "9.00    44\n",
       "        ..\n",
       "6.80     1\n",
       "9.32     1\n",
       "9.28     1\n",
       "7.05     1\n",
       "9.38     1\n",
       "Name: rating, Length: 220, dtype: int64"
      ]
     },
     "execution_count": 4,
     "metadata": {},
     "output_type": "execute_result"
    }
   ],
   "source": [
    "drops['rating'].value_counts()"
   ]
  },
  {
   "cell_type": "code",
   "execution_count": 5,
   "metadata": {},
   "outputs": [],
   "source": [
    "mms = MinMaxScaler()\n",
    "drops['mms_rating'] = mms.fit_transform(drops['rating'].values.reshape(-1,1))"
   ]
  },
  {
   "cell_type": "code",
   "execution_count": 6,
   "metadata": {},
   "outputs": [],
   "source": [
    "ss = StandardScaler()\n",
    "drops['ss_rating'] = ss.fit_transform(drops['rating'].values.reshape(-1,1))"
   ]
  },
  {
   "cell_type": "code",
   "execution_count": 7,
   "metadata": {},
   "outputs": [],
   "source": [
    "mms_pivot_df = drops.pivot_table(index = 'name', columns = 'type', values='mms_rating')"
   ]
  },
  {
   "cell_type": "code",
   "execution_count": 8,
   "metadata": {},
   "outputs": [],
   "source": [
    "ss_pivot_df = drops.pivot_table(index = 'name', columns = 'type', values='ss_rating')"
   ]
  },
  {
   "cell_type": "code",
   "execution_count": 9,
   "metadata": {},
   "outputs": [],
   "source": [
    "mms_pivot_df_sparse = sparse.csr_matrix(mms_pivot_df.fillna(0))"
   ]
  },
  {
   "cell_type": "code",
   "execution_count": 10,
   "metadata": {},
   "outputs": [],
   "source": [
    "ss_pivot_df_sparse = sparse.csr_matrix(ss_pivot_df.fillna(0))"
   ]
  },
  {
   "cell_type": "code",
   "execution_count": 11,
   "metadata": {},
   "outputs": [],
   "source": [
    "mms_cs_recommender = cosine_similarity(mms_pivot_df_sparse)"
   ]
  },
  {
   "cell_type": "code",
   "execution_count": 12,
   "metadata": {},
   "outputs": [],
   "source": [
    "ss_cs_recommender = cosine_similarity(ss_pivot_df_sparse)"
   ]
  },
  {
   "cell_type": "code",
   "execution_count": 13,
   "metadata": {},
   "outputs": [],
   "source": [
    "mms_cs_whiskey_recommender = pd.DataFrame(mms_cs_recommender,\n",
    "                                     index=mms_pivot_df.index,\n",
    "                                     columns=mms_pivot_df.index)"
   ]
  },
  {
   "cell_type": "code",
   "execution_count": 14,
   "metadata": {},
   "outputs": [],
   "source": [
    "ss_cs_whiskey_recommender = pd.DataFrame(ss_cs_recommender,\n",
    "                                     index=ss_pivot_df.index,\n",
    "                                     columns=ss_pivot_df.index)"
   ]
  },
  {
   "cell_type": "code",
   "execution_count": 15,
   "metadata": {},
   "outputs": [
    {
     "name": "stdout",
     "output_type": "stream",
     "text": [
      "Pick a Whiskey you like:Jack\n",
      "\n",
      "Jack Daniel's Red Dog Saloon Tennessee Whiskey\n",
      "\n",
      "name\n",
      "Jack Daniel's Single Barrel Barrel Proof          1.0\n",
      "Jack Daniel's Red Dog Saloon Tennessee Whiskey    1.0\n",
      "George Dickel 17 Year Tennessee Whiskey           1.0\n",
      "Finlaggan Old Reserve                             0.0\n",
      "Flatboat                                          0.0\n",
      "Fettercairn Fior                                  0.0\n",
      "Forged Oak                                        0.0\n",
      "Forty Creek Confederation Oak (Batch G, H, I)     0.0\n",
      "Famous Jubilee                                    0.0\n",
      "Forty Creek 22yo                                  0.0\n",
      "Name: Jack Daniel's Red Dog Saloon Tennessee Whiskey, dtype: float64\n",
      "\n",
      "Jack Daniel's Single Barrel Barrel Proof\n",
      "\n",
      "name\n",
      "Jack Daniel's Single Barrel Barrel Proof          1.0\n",
      "Jack Daniel's Red Dog Saloon Tennessee Whiskey    1.0\n",
      "George Dickel 17 Year Tennessee Whiskey           1.0\n",
      "Finlaggan Old Reserve                             0.0\n",
      "Flatboat                                          0.0\n",
      "Fettercairn Fior                                  0.0\n",
      "Forged Oak                                        0.0\n",
      "Forty Creek Confederation Oak (Batch G, H, I)     0.0\n",
      "Famous Jubilee                                    0.0\n",
      "Forty Creek 22yo                                  0.0\n",
      "Name: Jack Daniel's Single Barrel Barrel Proof, dtype: float64\n",
      "\n",
      "Jack Daniel's Single Barrel Rye\n",
      "\n",
      "name\n",
      "J.P. Wiser's Canada 2018                                           1.0\n",
      "J.P. Wiser's Alumni Series Darryl Sitter 10yo                      1.0\n",
      "J.P. Wiser's Alumni Series Dave Keon 14yo                          1.0\n",
      "J.P. Wiser's Alumni Series Larry Robinson 6yo                      1.0\n",
      "J.P. Wiser's Alumni Series Mark Messier 11yo                       1.0\n",
      "J.P. Wiser's Alumni Series Paul Coffey 7yo                         1.0\n",
      "J.P. Wiser's Alumni Series Wendel Clark 11yo                       1.0\n",
      "Amrut Rye                                                          1.0\n",
      "Smooth Ambler Old Scout Single Barrel Cask Strength Rye Whiskey    1.0\n",
      "Canadian Club 100% Rye                                             1.0\n",
      "Name: Jack Daniel's Single Barrel Rye, dtype: float64\n",
      "\n",
      "Jack Daniel's Rested Tennessee Rye (Batch 1/2)\n",
      "\n",
      "name\n",
      "J.P. Wiser's Canada 2018                                           1.0\n",
      "J.P. Wiser's Alumni Series Darryl Sitter 10yo                      1.0\n",
      "J.P. Wiser's Alumni Series Dave Keon 14yo                          1.0\n",
      "J.P. Wiser's Alumni Series Larry Robinson 6yo                      1.0\n",
      "J.P. Wiser's Alumni Series Mark Messier 11yo                       1.0\n",
      "J.P. Wiser's Alumni Series Paul Coffey 7yo                         1.0\n",
      "J.P. Wiser's Alumni Series Wendel Clark 11yo                       1.0\n",
      "Amrut Rye                                                          1.0\n",
      "Smooth Ambler Old Scout Single Barrel Cask Strength Rye Whiskey    1.0\n",
      "Canadian Club 100% Rye                                             1.0\n",
      "Name: Jack Daniel's Rested Tennessee Rye (Batch 1/2), dtype: float64\n",
      "\n",
      "Jack Daniel's 150th Anniversary\n",
      "\n",
      "name\n",
      "Four Roses LE Small Batch  (2016)                        1.0\n",
      "Booker's                                                 1.0\n",
      "Russell's Reserve Single Barrel                          1.0\n",
      "Russell's Reserve Small Batch 10yo Bourbon               1.0\n",
      "Blanton's Straight from the Barrel Bourbon               1.0\n",
      "Blanton's Straight from the Barrel - Barrel #928         1.0\n",
      "Blanton's Special Reserve Single Barrel (Green label)    1.0\n",
      "Blanton's Original Bourbon Single Barrel                 1.0\n",
      "Blanton's Gold Kentucky Straight Bourbon                 1.0\n",
      "Blanton's                                                1.0\n",
      "Name: Jack Daniel's 150th Anniversary, dtype: float64\n",
      "\n",
      "Jack Daniel's Master Distiller (all series)\n",
      "\n",
      "name\n",
      "Four Roses LE Small Batch  (2016)                        1.0\n",
      "Booker's                                                 1.0\n",
      "Russell's Reserve Single Barrel                          1.0\n",
      "Russell's Reserve Small Batch 10yo Bourbon               1.0\n",
      "Blanton's Straight from the Barrel Bourbon               1.0\n",
      "Blanton's Straight from the Barrel - Barrel #928         1.0\n",
      "Blanton's Special Reserve Single Barrel (Green label)    1.0\n",
      "Blanton's Original Bourbon Single Barrel                 1.0\n",
      "Blanton's Gold Kentucky Straight Bourbon                 1.0\n",
      "Blanton's                                                1.0\n",
      "Name: Jack Daniel's Master Distiller (all series), dtype: float64\n",
      "\n",
      "Jack Daniel's Single Barrel\n",
      "\n",
      "name\n",
      "Four Roses LE Small Batch  (2016)                        1.0\n",
      "Booker's                                                 1.0\n",
      "Russell's Reserve Single Barrel                          1.0\n",
      "Russell's Reserve Small Batch 10yo Bourbon               1.0\n",
      "Blanton's Straight from the Barrel Bourbon               1.0\n",
      "Blanton's Straight from the Barrel - Barrel #928         1.0\n",
      "Blanton's Special Reserve Single Barrel (Green label)    1.0\n",
      "Blanton's Original Bourbon Single Barrel                 1.0\n",
      "Blanton's Gold Kentucky Straight Bourbon                 1.0\n",
      "Blanton's                                                1.0\n",
      "Name: Jack Daniel's Single Barrel, dtype: float64\n",
      "\n",
      "Jack Daniel's No. 27 Gold Double Barrelled\n",
      "\n",
      "name\n",
      "Four Roses LE Small Batch  (2016)                        1.0\n",
      "Booker's                                                 1.0\n",
      "Russell's Reserve Single Barrel                          1.0\n",
      "Russell's Reserve Small Batch 10yo Bourbon               1.0\n",
      "Blanton's Straight from the Barrel Bourbon               1.0\n",
      "Blanton's Straight from the Barrel - Barrel #928         1.0\n",
      "Blanton's Special Reserve Single Barrel (Green label)    1.0\n",
      "Blanton's Original Bourbon Single Barrel                 1.0\n",
      "Blanton's Gold Kentucky Straight Bourbon                 1.0\n",
      "Blanton's                                                1.0\n",
      "Name: Jack Daniel's No. 27 Gold Double Barrelled, dtype: float64\n",
      "\n",
      "Jack Daniel's Gentleman Jack\n",
      "\n",
      "name\n",
      "Four Roses LE Small Batch  (2016)                        1.0\n",
      "Booker's                                                 1.0\n",
      "Russell's Reserve Single Barrel                          1.0\n",
      "Russell's Reserve Small Batch 10yo Bourbon               1.0\n",
      "Blanton's Straight from the Barrel Bourbon               1.0\n",
      "Blanton's Straight from the Barrel - Barrel #928         1.0\n",
      "Blanton's Special Reserve Single Barrel (Green label)    1.0\n",
      "Blanton's Original Bourbon Single Barrel                 1.0\n",
      "Blanton's Gold Kentucky Straight Bourbon                 1.0\n",
      "Blanton's                                                1.0\n",
      "Name: Jack Daniel's Gentleman Jack, dtype: float64\n",
      "\n",
      "Jack Daniel's Old No. 7\n",
      "\n",
      "name\n",
      "Four Roses LE Small Batch  (2016)                        1.0\n",
      "Booker's                                                 1.0\n",
      "Russell's Reserve Single Barrel                          1.0\n",
      "Russell's Reserve Small Batch 10yo Bourbon               1.0\n",
      "Blanton's Straight from the Barrel Bourbon               1.0\n",
      "Blanton's Straight from the Barrel - Barrel #928         1.0\n",
      "Blanton's Special Reserve Single Barrel (Green label)    1.0\n",
      "Blanton's Original Bourbon Single Barrel                 1.0\n",
      "Blanton's Gold Kentucky Straight Bourbon                 1.0\n",
      "Blanton's                                                1.0\n",
      "Name: Jack Daniel's Old No. 7, dtype: float64\n",
      "\n"
     ]
    }
   ],
   "source": [
    "q = input('Pick a Whiskey you like:')\n",
    "print()\n",
    "names = df.loc[df['name'].str.contains(q), 'name']\n",
    "\n",
    "for name in names:\n",
    "    print(name)\n",
    "    print()\n",
    "    print(mms_cs_whiskey_recommender[name].sort_values(ascending = False)[1:11])\n",
    "    print()"
   ]
  },
  {
   "cell_type": "code",
   "execution_count": 16,
   "metadata": {},
   "outputs": [
    {
     "name": "stdout",
     "output_type": "stream",
     "text": [
      "Pick a Whiskey you like:jack\n",
      "\n"
     ]
    }
   ],
   "source": [
    "q = input('Pick a Whiskey you like:')\n",
    "print()\n",
    "names = df.loc[df['name'].str.contains(q), 'name']\n",
    "\n",
    "for name in names:\n",
    "    print(name)\n",
    "    print()\n",
    "    print(ss_cs_whiskey_recommender[name].sort_values(ascending = False)[1:11])\n",
    "    print()"
   ]
  },
  {
   "cell_type": "code",
   "execution_count": null,
   "metadata": {},
   "outputs": [],
   "source": []
  }
 ],
 "metadata": {
  "kernelspec": {
   "display_name": "Python 3",
   "language": "python",
   "name": "python3"
  },
  "language_info": {
   "codemirror_mode": {
    "name": "ipython",
    "version": 3
   },
   "file_extension": ".py",
   "mimetype": "text/x-python",
   "name": "python",
   "nbconvert_exporter": "python",
   "pygments_lexer": "ipython3",
   "version": "3.7.4"
  }
 },
 "nbformat": 4,
 "nbformat_minor": 2
}
